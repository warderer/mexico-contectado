{
 "cells": [
  {
   "cell_type": "code",
   "execution_count": 17,
   "id": "63c64876-ca1f-4c7e-8dfd-271410303a60",
   "metadata": {},
   "outputs": [],
   "source": [
    "# Importar depedencias\n",
    "import pandas as pd\n",
    "from sklearn.model_selection import train_test_split\n",
    "from sklearn.preprocessing import StandardScaler, OneHotEncoder\n",
    "from sklearn.compose import ColumnTransformer\n",
    "from sklearn.pipeline import Pipeline\n",
    "from sklearn.metrics import classification_report, accuracy_score, silhouette_score\n",
    "from sklearn.svm import SVC\n",
    "from sklearn.tree import DecisionTreeClassifier\n",
    "from sklearn.cluster import KMeans"
   ]
  },
  {
   "cell_type": "code",
   "execution_count": 2,
   "id": "14a8d51d-a1ed-4522-acb2-9ade8ff23d7a",
   "metadata": {},
   "outputs": [],
   "source": [
    "# Cargar los datos\n",
    "ruta_archivo = 'data/df_mexico_conectado_con_indice_marginacion.csv'\n",
    "datos = pd.read_csv(ruta_archivo)"
   ]
  },
  {
   "cell_type": "code",
   "execution_count": 5,
   "id": "621ae290-8a11-4e92-8daf-423c0fda11a3",
   "metadata": {},
   "outputs": [],
   "source": [
    "# Función para preprocesar los datos\n",
    "def preprocesar_datos(df):\n",
    "    # Identificar columnas numéricas y categóricas\n",
    "    columnas_numericas = df.select_dtypes(include=['int64', 'float64']).columns\n",
    "    columnas_categoricas = df.select_dtypes(include=['object']).columns\n",
    "    # Crear transformadores para cada tipo de columna\n",
    "    transformador_numerico = Pipeline(steps=[ ('scaler', StandardScaler()) ])\n",
    "    transformador_categorico = Pipeline(steps=[ ('onehot', OneHotEncoder(handle_unknown='ignore')) ])\n",
    "    # Crear y aplicar el transformador de columnas\n",
    "    preprocessor = ColumnTransformer(\n",
    "        transformers=[\n",
    "            ('num', transformador_numerico, columnas_numericas),\n",
    "            ('cat', transformador_categorico, columnas_categoricas)\n",
    "        ]\n",
    "    )\n",
    "    # Ajustar y transformar los datos\n",
    "    df_preprocesado = preprocessor.fit_transform(df)\n",
    "    return df_preprocesado\n",
    "# Aplicar preprocesar datos y almacenarlos en una variable para su futuro uso\n",
    "datos_preprocesados = preprocesar_datos(datos)"
   ]
  },
  {
   "cell_type": "code",
   "execution_count": 7,
   "id": "e484ada2-0095-4f61-9d40-f6fabbc91cf6",
   "metadata": {},
   "outputs": [],
   "source": [
    "# Dividir los datos en conjuntos de entrenamiento y prueba\n",
    "X_train, X_test, y_train, y_test = train_test_split(\n",
    "    datos_preprocesados, \n",
    "    datos['grado_marginacion_2020'], # 'grado_marginacion_2020' es la variable objetivo\n",
    "    test_size=0.2, \n",
    "    random_state=42\n",
    ")\n",
    "\n",
    "# Definir modelos de aprendizaje automático\n",
    "modelos = {\n",
    "    \"SVM\": SVC(),\n",
    "    \"Árbol de Decisión\": DecisionTreeClassifier(),\n",
    "    \"K-Means\": KMeans(n_clusters=3) # Se puede ajustar el # de clústers\n",
    "}"
   ]
  },
  {
   "cell_type": "code",
   "execution_count": 9,
   "id": "277806f0-0feb-4f5b-ac6f-299f6e7a9c37",
   "metadata": {},
   "outputs": [],
   "source": [
    "# Función para entrenar y evaluar modelos SVM, Árbol de Decisión (Supervisados)\n",
    "def entrenar_evaluar_modelo(modelo, X_train, X_test, y_train, y_test):\n",
    "    modelo.fit(X_train, y_train)\n",
    "    predicciones = modelo.predict(X_test)\n",
    "    print(classification_report(y_test, predicciones))\n",
    "    return accuracy_score(y_test, predicciones)\n",
    "\n",
    "# Función para entrenar y evaluar el modelo K-Means (No Supervisado)\n",
    "def entrenar_evaluar_kmeans(modelo, X):\n",
    "    modelo.fit(X)\n",
    "    etiquetas = modelo.labels_\n",
    "    score = silhouette_score(X, etiquetas)\n",
    "    return score"
   ]
  },
  {
   "cell_type": "code",
   "execution_count": 19,
   "id": "53ea8b62-ef60-4842-b999-16bee9d7ef47",
   "metadata": {},
   "outputs": [],
   "source": []
  },
  {
   "cell_type": "code",
   "execution_count": 33,
   "id": "eab0f2ae-b5cc-4c9a-9d44-5923ca07db41",
   "metadata": {},
   "outputs": [
    {
     "name": "stdout",
     "output_type": "stream",
     "text": [
      "Evaluando modelo: SVM\n",
      "              precision    recall  f1-score   support\n",
      "\n",
      "        Alto       1.00      1.00      1.00       124\n",
      "        Bajo       0.99      0.99      0.99       110\n",
      "       Medio       1.00      0.99      0.99        97\n",
      "    Muy alto       0.97      1.00      0.99        35\n",
      "    Muy bajo       0.99      0.99      0.99       128\n",
      "\n",
      "    accuracy                           0.99       494\n",
      "   macro avg       0.99      0.99      0.99       494\n",
      "weighted avg       0.99      0.99      0.99       494\n",
      "\n",
      "Evaluando modelo: Árbol de Decisión\n",
      "              precision    recall  f1-score   support\n",
      "\n",
      "        Alto       1.00      1.00      1.00       124\n",
      "        Bajo       1.00      0.99      1.00       110\n",
      "       Medio       0.99      1.00      0.99        97\n",
      "    Muy alto       1.00      1.00      1.00        35\n",
      "    Muy bajo       1.00      1.00      1.00       128\n",
      "\n",
      "    accuracy                           1.00       494\n",
      "   macro avg       1.00      1.00      1.00       494\n",
      "weighted avg       1.00      1.00      1.00       494\n",
      "\n",
      "Evaluando modelo: K-Means\n",
      "Silhouette Score para K-Means: 0.17898932051659272\n"
     ]
    }
   ],
   "source": [
    "# Aplicar Entrenar y evaluar modelos\n",
    "resultados = {}\n",
    "for nombre, modelo in modelos.items():\n",
    "    print(f\"Evaluando modelo: {nombre}\")\n",
    "    if nombre == \"K-Means\":  # Proceso especial para K-Means u otros algoritmos no supervisados\n",
    "        modelo_kmeans = KMeans(n_clusters=3, n_init='auto')  # Ajustar el número de clusters\n",
    "        score_kmeans = entrenar_evaluar_kmeans(modelo_kmeans, X_train)\n",
    "        print(f\"Silhouette Score para K-Means: {score_kmeans}\")\n",
    "        resultados[nombre] = score_kmeans\n",
    "        continue\n",
    "    else:\n",
    "        resultados[nombre] = entrenar_evaluar_modelo(modelo, X_train, X_test, y_train, y_test)"
   ]
  },
  {
   "cell_type": "code",
   "execution_count": 23,
   "id": "22af554f-d1d4-4f2f-b8e8-d677bd34fad6",
   "metadata": {},
   "outputs": [
    {
     "name": "stdout",
     "output_type": "stream",
     "text": [
      "El mejor modelo es: Árbol de Decisión con una precisión de 0.9979757085020243\n"
     ]
    }
   ],
   "source": [
    "# Imprimir resultados y seleccionar el mejor modelo\n",
    "mejor_modelo = max(resultados, key=resultados.get)\n",
    "print(f\"El mejor modelo es: {mejor_modelo} con una precisión de {resultados[mejor_modelo]}\")\n"
   ]
  },
  {
   "cell_type": "code",
   "execution_count": null,
   "id": "bbc39df6-c20b-429c-a124-298cc78b9224",
   "metadata": {},
   "outputs": [],
   "source": []
  }
 ],
 "metadata": {
  "kernelspec": {
   "display_name": "anaconda-panel-2023.05-py310",
   "language": "python",
   "name": "conda-env-anaconda-panel-2023.05-py310-py"
  },
  "language_info": {
   "codemirror_mode": {
    "name": "ipython",
    "version": 3
   },
   "file_extension": ".py",
   "mimetype": "text/x-python",
   "name": "python",
   "nbconvert_exporter": "python",
   "pygments_lexer": "ipython3",
   "version": "3.11.5"
  }
 },
 "nbformat": 4,
 "nbformat_minor": 5
}
